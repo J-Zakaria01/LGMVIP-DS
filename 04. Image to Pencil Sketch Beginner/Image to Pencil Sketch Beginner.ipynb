{
 "cells": [
  {
   "cell_type": "markdown",
   "id": "f16e9b35",
   "metadata": {},
   "source": [
    "## LGMVIP - DS Beginner level task #4: Image to Pencil Sketch with Python\n",
    "### Author: Zakaria Jnayni\n",
    "![03](03.png)\n",
    "### Load libraries"
   ]
  },
  {
   "cell_type": "code",
   "execution_count": 2,
   "id": "aa4f8dfd",
   "metadata": {},
   "outputs": [],
   "source": [
    "import cv2"
   ]
  },
  {
   "cell_type": "code",
   "execution_count": 3,
   "id": "dc8bd381",
   "metadata": {},
   "outputs": [],
   "source": [
    "img = cv2.imread(\"dog.jpg\")"
   ]
  },
  {
   "cell_type": "markdown",
   "id": "b30988eb",
   "metadata": {},
   "source": [
    "![dog](dog.jpg)\n",
    "\n",
    "**Convert the image to greyscale**"
   ]
  },
  {
   "cell_type": "code",
   "execution_count": 4,
   "id": "4bdd9a61",
   "metadata": {},
   "outputs": [],
   "source": [
    "gray_img = cv2.cvtColor(img, cv2.COLOR_BGR2GRAY)"
   ]
  },
  {
   "cell_type": "code",
   "execution_count": null,
   "id": "7e253837",
   "metadata": {},
   "outputs": [],
   "source": [
    "cv2.imshow(\"gray\", gray_img)\n",
    "cv2.waitKey(0)"
   ]
  },
  {
   "cell_type": "markdown",
   "id": "6a111563",
   "metadata": {},
   "source": [
    "![gray1](gray1.png)\n",
    "\n",
    "**Invert the image**"
   ]
  },
  {
   "cell_type": "code",
   "execution_count": 5,
   "id": "4fc728e9",
   "metadata": {},
   "outputs": [],
   "source": [
    "inverted_img = 255 - gray_img"
   ]
  },
  {
   "cell_type": "code",
   "execution_count": null,
   "id": "116551cb",
   "metadata": {},
   "outputs": [],
   "source": [
    "cv2.imshow(\"inverted\", inverted_img)\n",
    "cv2.waitKey(0)"
   ]
  },
  {
   "cell_type": "markdown",
   "id": "d2530a2a",
   "metadata": {},
   "source": [
    "![inverted1](inverted1.png)\n",
    "**Blur the image**"
   ]
  },
  {
   "cell_type": "code",
   "execution_count": 6,
   "id": "4bd6e33f",
   "metadata": {},
   "outputs": [],
   "source": [
    "blurred_img = cv2.GaussianBlur(inverted_img, (21, 21), 0)"
   ]
  },
  {
   "cell_type": "code",
   "execution_count": null,
   "id": "8a966816",
   "metadata": {},
   "outputs": [],
   "source": [
    "cv2.imshow(\"blured\", blurred_img)\n",
    "cv2.waitKey(0)"
   ]
  },
  {
   "cell_type": "markdown",
   "id": "1f392c93",
   "metadata": {},
   "source": [
    "![blured](blured.png)\n",
    "\n",
    "**invert the blurred image**"
   ]
  },
  {
   "cell_type": "code",
   "execution_count": 7,
   "id": "e2c2cffd",
   "metadata": {},
   "outputs": [],
   "source": [
    "inverted_blurred = 255 - blurred_img"
   ]
  },
  {
   "cell_type": "code",
   "execution_count": null,
   "id": "94ad1e60",
   "metadata": {},
   "outputs": [],
   "source": [
    "cv2.imshow(\"invertedblured\", inverted_blurred)\n",
    "cv2.waitKey(0)"
   ]
  },
  {
   "cell_type": "markdown",
   "id": "f81c3432",
   "metadata": {},
   "source": [
    "![inverted1](inverted1.png)\n",
    "\n",
    "**convert the image into a pencil sketch**"
   ]
  },
  {
   "cell_type": "code",
   "execution_count": 8,
   "id": "c13b1bfd",
   "metadata": {},
   "outputs": [],
   "source": [
    "pencil_sketch = cv2.divide(gray_img, inverted_blurred, scale=256.0)"
   ]
  },
  {
   "cell_type": "markdown",
   "id": "fb35f639",
   "metadata": {},
   "source": [
    "**Show the image**"
   ]
  },
  {
   "cell_type": "code",
   "execution_count": null,
   "id": "93cdb924",
   "metadata": {},
   "outputs": [],
   "source": [
    "cv2.imshow(\"Sketch\", pencil_sketch)\n",
    "cv2.waitKey(0)"
   ]
  },
  {
   "cell_type": "markdown",
   "id": "021b2aed",
   "metadata": {},
   "source": [
    "![sketch](Sketch.png)"
   ]
  }
 ],
 "metadata": {
  "kernelspec": {
   "display_name": "Python 3 (ipykernel)",
   "language": "python",
   "name": "python3"
  },
  "language_info": {
   "codemirror_mode": {
    "name": "ipython",
    "version": 3
   },
   "file_extension": ".py",
   "mimetype": "text/x-python",
   "name": "python",
   "nbconvert_exporter": "python",
   "pygments_lexer": "ipython3",
   "version": "3.7.13"
  }
 },
 "nbformat": 4,
 "nbformat_minor": 5
}
