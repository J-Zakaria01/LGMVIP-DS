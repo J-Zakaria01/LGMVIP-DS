{
 "cells": [
  {
   "cell_type": "markdown",
   "metadata": {},
   "source": [
    "## LGMVIP - DataScience task #3 Beginner level: Music Recommendation system LGBM\n",
    "### Author: Zakaria Jnayni\n",
    "### Import Libraries"
   ]
  },
  {
   "cell_type": "markdown",
   "metadata": {},
   "source": [
    "### Importing libraries"
   ]
  },
  {
   "cell_type": "code",
   "execution_count": 13,
   "metadata": {
    "execution": {
     "iopub.execute_input": "2022-11-03T19:01:43.090795Z",
     "iopub.status.busy": "2022-11-03T19:01:43.090420Z",
     "iopub.status.idle": "2022-11-03T19:01:44.025723Z",
     "shell.execute_reply": "2022-11-03T19:01:44.024009Z",
     "shell.execute_reply.started": "2022-11-03T19:01:43.090769Z"
    }
   },
   "outputs": [
    {
     "data": {
      "text/html": [
       "<style type='text/css'>\n",
       ".datatable table.frame { margin-bottom: 0; }\n",
       ".datatable table.frame thead { border-bottom: none; }\n",
       ".datatable table.frame tr.coltypes td {  color: #FFFFFF;  line-height: 6px;  padding: 0 0.5em;}\n",
       ".datatable .bool    { background: #DDDD99; }\n",
       ".datatable .object  { background: #565656; }\n",
       ".datatable .int     { background: #5D9E5D; }\n",
       ".datatable .float   { background: #4040CC; }\n",
       ".datatable .str     { background: #CC4040; }\n",
       ".datatable .time    { background: #40CC40; }\n",
       ".datatable .row_index {  background: var(--jp-border-color3);  border-right: 1px solid var(--jp-border-color0);  color: var(--jp-ui-font-color3);  font-size: 9px;}\n",
       ".datatable .frame tbody td { text-align: left; }\n",
       ".datatable .frame tr.coltypes .row_index {  background: var(--jp-border-color0);}\n",
       ".datatable th:nth-child(2) { padding-left: 12px; }\n",
       ".datatable .hellipsis {  color: var(--jp-cell-editor-border-color);}\n",
       ".datatable .vellipsis {  background: var(--jp-layout-color0);  color: var(--jp-cell-editor-border-color);}\n",
       ".datatable .na {  color: var(--jp-cell-editor-border-color);  font-size: 80%;}\n",
       ".datatable .sp {  opacity: 0.25;}\n",
       ".datatable .footer { font-size: 9px; }\n",
       ".datatable .frame_dimensions {  background: var(--jp-border-color3);  border-top: 1px solid var(--jp-border-color0);  color: var(--jp-ui-font-color3);  display: inline-block;  opacity: 0.6;  padding: 1px 10px 1px 5px;}\n",
       "</style>\n"
      ],
      "text/plain": [
       "<IPython.core.display.HTML object>"
      ]
     },
     "metadata": {},
     "output_type": "display_data"
    }
   ],
   "source": [
    "import numpy as np\n",
    "import pandas as pd\n",
    "import seaborn as sns\n",
    "import matplotlib.pyplot as plt\n",
    "import sklearn\n",
    "import missingno as msno\n",
    "from sklearn.model_selection import train_test_split\n",
    "from sklearn.metrics import roc_curve, roc_auc_score, accuracy_score, confusion_matrix, classification_report\n",
    "from sklearn.preprocessing import OneHotEncoder, LabelEncoder, MinMaxScaler\n",
    "from sklearn.ensemble import RandomForestClassifier\n",
    "import lightgbm as lgbm"
   ]
  },
  {
   "cell_type": "code",
   "execution_count": 34,
   "metadata": {
    "execution": {
     "iopub.execute_input": "2022-11-03T19:23:55.307200Z",
     "iopub.status.busy": "2022-11-03T19:23:55.306787Z",
     "iopub.status.idle": "2022-11-03T19:23:55.312986Z",
     "shell.execute_reply": "2022-11-03T19:23:55.311960Z",
     "shell.execute_reply.started": "2022-11-03T19:23:55.307173Z"
    }
   },
   "outputs": [],
   "source": [
    "# Unziping Data\n",
    "#!7z e \"../input/kkbox-music-recommendation-challenge/members.csv.7z\"\n",
    "#!7z e \"../input/kkbox-music-recommendation-challenge/songs.csv.7z\"\n",
    "#!7z e \"../input/kkbox-music-recommendation-challenge/test.csv.7z\"\n",
    "#!7z e \"../input/kkbox-music-recommendation-challenge/train.csv.7z\"\n",
    "#!7z e \"../input/kkbox-music-recommendation-challenge/song_extra_info.csv.7z\""
   ]
  },
  {
   "cell_type": "markdown",
   "metadata": {},
   "source": [
    "### Load dataset"
   ]
  },
  {
   "cell_type": "code",
   "execution_count": 3,
   "metadata": {
    "execution": {
     "iopub.execute_input": "2022-11-03T18:51:34.276292Z",
     "iopub.status.busy": "2022-11-03T18:51:34.275938Z",
     "iopub.status.idle": "2022-11-03T18:51:51.612473Z",
     "shell.execute_reply": "2022-11-03T18:51:51.611371Z",
     "shell.execute_reply.started": "2022-11-03T18:51:34.276267Z"
    }
   },
   "outputs": [],
   "source": [
    "train = pd.read_csv('train.csv')\n",
    "songs = pd.read_csv('songs.csv')\n",
    "members = pd.read_csv('members.csv')\n",
    "songs_extra = pd.read_csv('song_extra_info.csv')"
   ]
  },
  {
   "cell_type": "markdown",
   "metadata": {},
   "source": [
    "### Merge the dataframes"
   ]
  },
  {
   "cell_type": "code",
   "execution_count": 10,
   "metadata": {
    "execution": {
     "iopub.execute_input": "2022-11-03T18:59:14.846128Z",
     "iopub.status.busy": "2022-11-03T18:59:14.845722Z",
     "iopub.status.idle": "2022-11-03T18:59:31.275940Z",
     "shell.execute_reply": "2022-11-03T18:59:31.274806Z",
     "shell.execute_reply.started": "2022-11-03T18:59:14.846099Z"
    }
   },
   "outputs": [],
   "source": [
    "t1 = pd.merge(train, songs, on='song_id', how='left')\n",
    "t2 = pd.merge(t1, songs_extra, on='song_id', how='left')\n",
    "train_df = pd.merge(t2, members, on='msno', how='left')"
   ]
  },
  {
   "cell_type": "code",
   "execution_count": 11,
   "metadata": {
    "execution": {
     "iopub.execute_input": "2022-11-03T18:59:39.074880Z",
     "iopub.status.busy": "2022-11-03T18:59:39.074534Z",
     "iopub.status.idle": "2022-11-03T18:59:39.757565Z",
     "shell.execute_reply": "2022-11-03T18:59:39.756786Z",
     "shell.execute_reply.started": "2022-11-03T18:59:39.074856Z"
    }
   },
   "outputs": [],
   "source": [
    "# delete\n",
    "del songs, songs_extra, members, train, t1, t2"
   ]
  },
  {
   "cell_type": "code",
   "execution_count": 40,
   "metadata": {
    "execution": {
     "iopub.execute_input": "2022-11-03T19:24:44.266950Z",
     "iopub.status.busy": "2022-11-03T19:24:44.266552Z",
     "iopub.status.idle": "2022-11-03T19:24:44.286043Z",
     "shell.execute_reply": "2022-11-03T19:24:44.284619Z",
     "shell.execute_reply.started": "2022-11-03T19:24:44.266923Z"
    }
   },
   "outputs": [
    {
     "data": {
      "text/html": [
       "<div>\n",
       "<style scoped>\n",
       "    .dataframe tbody tr th:only-of-type {\n",
       "        vertical-align: middle;\n",
       "    }\n",
       "\n",
       "    .dataframe tbody tr th {\n",
       "        vertical-align: top;\n",
       "    }\n",
       "\n",
       "    .dataframe thead th {\n",
       "        text-align: right;\n",
       "    }\n",
       "</style>\n",
       "<table border=\"1\" class=\"dataframe\">\n",
       "  <thead>\n",
       "    <tr style=\"text-align: right;\">\n",
       "      <th></th>\n",
       "      <th>msno</th>\n",
       "      <th>song_id</th>\n",
       "      <th>source_system_tab</th>\n",
       "      <th>source_screen_name</th>\n",
       "      <th>source_type</th>\n",
       "      <th>target</th>\n",
       "      <th>song_length</th>\n",
       "      <th>genre_ids</th>\n",
       "      <th>artist_name</th>\n",
       "      <th>composer</th>\n",
       "      <th>...</th>\n",
       "      <th>gender</th>\n",
       "      <th>registered_via</th>\n",
       "      <th>registration_init_time</th>\n",
       "      <th>expiration_date</th>\n",
       "      <th>registration_init_time_year</th>\n",
       "      <th>registration_init_time_month</th>\n",
       "      <th>registration_init_time_day</th>\n",
       "      <th>expiration_date_year</th>\n",
       "      <th>expiration_date_month</th>\n",
       "      <th>expiration_date_day</th>\n",
       "    </tr>\n",
       "  </thead>\n",
       "  <tbody>\n",
       "    <tr>\n",
       "      <th>0</th>\n",
       "      <td>8158</td>\n",
       "      <td>74679</td>\n",
       "      <td>1</td>\n",
       "      <td>7</td>\n",
       "      <td>6</td>\n",
       "      <td>1</td>\n",
       "      <td>19020</td>\n",
       "      <td>285</td>\n",
       "      <td>3277</td>\n",
       "      <td>14581</td>\n",
       "      <td>...</td>\n",
       "      <td>2</td>\n",
       "      <td>2</td>\n",
       "      <td>2131</td>\n",
       "      <td>989</td>\n",
       "      <td>8</td>\n",
       "      <td>0</td>\n",
       "      <td>1</td>\n",
       "      <td>14</td>\n",
       "      <td>9</td>\n",
       "      <td>4</td>\n",
       "    </tr>\n",
       "    <tr>\n",
       "      <th>1</th>\n",
       "      <td>17259</td>\n",
       "      <td>223479</td>\n",
       "      <td>3</td>\n",
       "      <td>8</td>\n",
       "      <td>4</td>\n",
       "      <td>1</td>\n",
       "      <td>36985</td>\n",
       "      <td>90</td>\n",
       "      <td>31960</td>\n",
       "      <td>64996</td>\n",
       "      <td>...</td>\n",
       "      <td>0</td>\n",
       "      <td>3</td>\n",
       "      <td>1909</td>\n",
       "      <td>965</td>\n",
       "      <td>7</td>\n",
       "      <td>4</td>\n",
       "      <td>24</td>\n",
       "      <td>14</td>\n",
       "      <td>8</td>\n",
       "      <td>10</td>\n",
       "    </tr>\n",
       "    <tr>\n",
       "      <th>2</th>\n",
       "      <td>17259</td>\n",
       "      <td>120758</td>\n",
       "      <td>3</td>\n",
       "      <td>8</td>\n",
       "      <td>4</td>\n",
       "      <td>1</td>\n",
       "      <td>23675</td>\n",
       "      <td>90</td>\n",
       "      <td>21372</td>\n",
       "      <td>45057</td>\n",
       "      <td>...</td>\n",
       "      <td>0</td>\n",
       "      <td>3</td>\n",
       "      <td>1909</td>\n",
       "      <td>965</td>\n",
       "      <td>7</td>\n",
       "      <td>4</td>\n",
       "      <td>24</td>\n",
       "      <td>14</td>\n",
       "      <td>8</td>\n",
       "      <td>10</td>\n",
       "    </tr>\n",
       "    <tr>\n",
       "      <th>3</th>\n",
       "      <td>17259</td>\n",
       "      <td>23707</td>\n",
       "      <td>3</td>\n",
       "      <td>8</td>\n",
       "      <td>4</td>\n",
       "      <td>1</td>\n",
       "      <td>30970</td>\n",
       "      <td>6</td>\n",
       "      <td>27439</td>\n",
       "      <td>36700</td>\n",
       "      <td>...</td>\n",
       "      <td>0</td>\n",
       "      <td>3</td>\n",
       "      <td>1909</td>\n",
       "      <td>965</td>\n",
       "      <td>7</td>\n",
       "      <td>4</td>\n",
       "      <td>24</td>\n",
       "      <td>14</td>\n",
       "      <td>8</td>\n",
       "      <td>10</td>\n",
       "    </tr>\n",
       "    <tr>\n",
       "      <th>4</th>\n",
       "      <td>8158</td>\n",
       "      <td>33308</td>\n",
       "      <td>1</td>\n",
       "      <td>7</td>\n",
       "      <td>6</td>\n",
       "      <td>1</td>\n",
       "      <td>14877</td>\n",
       "      <td>2</td>\n",
       "      <td>4472</td>\n",
       "      <td>8485</td>\n",
       "      <td>...</td>\n",
       "      <td>2</td>\n",
       "      <td>2</td>\n",
       "      <td>2131</td>\n",
       "      <td>989</td>\n",
       "      <td>8</td>\n",
       "      <td>0</td>\n",
       "      <td>1</td>\n",
       "      <td>14</td>\n",
       "      <td>9</td>\n",
       "      <td>4</td>\n",
       "    </tr>\n",
       "  </tbody>\n",
       "</table>\n",
       "<p>5 rows × 26 columns</p>\n",
       "</div>"
      ],
      "text/plain": [
       "    msno  song_id  source_system_tab  source_screen_name  source_type  target  \\\n",
       "0   8158    74679                  1                   7            6       1   \n",
       "1  17259   223479                  3                   8            4       1   \n",
       "2  17259   120758                  3                   8            4       1   \n",
       "3  17259    23707                  3                   8            4       1   \n",
       "4   8158    33308                  1                   7            6       1   \n",
       "\n",
       "   song_length  genre_ids  artist_name  composer  ...  gender  registered_via  \\\n",
       "0        19020        285         3277     14581  ...       2               2   \n",
       "1        36985         90        31960     64996  ...       0               3   \n",
       "2        23675         90        21372     45057  ...       0               3   \n",
       "3        30970          6        27439     36700  ...       0               3   \n",
       "4        14877          2         4472      8485  ...       2               2   \n",
       "\n",
       "   registration_init_time  expiration_date  registration_init_time_year  \\\n",
       "0                    2131              989                            8   \n",
       "1                    1909              965                            7   \n",
       "2                    1909              965                            7   \n",
       "3                    1909              965                            7   \n",
       "4                    2131              989                            8   \n",
       "\n",
       "   registration_init_time_month  registration_init_time_day  \\\n",
       "0                             0                           1   \n",
       "1                             4                          24   \n",
       "2                             4                          24   \n",
       "3                             4                          24   \n",
       "4                             0                           1   \n",
       "\n",
       "   expiration_date_year  expiration_date_month  expiration_date_day  \n",
       "0                    14                      9                    4  \n",
       "1                    14                      8                   10  \n",
       "2                    14                      8                   10  \n",
       "3                    14                      8                   10  \n",
       "4                    14                      9                    4  \n",
       "\n",
       "[5 rows x 26 columns]"
      ]
     },
     "execution_count": 40,
     "metadata": {},
     "output_type": "execute_result"
    }
   ],
   "source": [
    "train_df.head()"
   ]
  },
  {
   "cell_type": "markdown",
   "metadata": {},
   "source": [
    "### Missing values"
   ]
  },
  {
   "cell_type": "code",
   "execution_count": 14,
   "metadata": {
    "execution": {
     "iopub.execute_input": "2022-11-03T19:02:08.417696Z",
     "iopub.status.busy": "2022-11-03T19:02:08.417312Z",
     "iopub.status.idle": "2022-11-03T19:02:54.338473Z",
     "shell.execute_reply": "2022-11-03T19:02:54.337544Z",
     "shell.execute_reply.started": "2022-11-03T19:02:08.417670Z"
    }
   },
   "outputs": [
    {
     "data": {
      "text/plain": [
       "<AxesSubplot:>"
      ]
     },
     "execution_count": 14,
     "metadata": {},
     "output_type": "execute_result"
    },
    {
     "data": {
      "image/png": "[encoded data removed]",
      "text/plain": [
       "<Figure size 1800x720 with 2 Axes>"
      ]
     },
     "metadata": {
      "needs_background": "light"
     },
     "output_type": "display_data"
    }
   ],
   "source": [
    "msno.matrix(train_df)"
   ]
  },
  {
   "cell_type": "markdown",
   "metadata": {},
   "source": [
    "We fill the missing values"
   ]
  },
  {
   "cell_type": "code",
   "execution_count": 15,
   "metadata": {
    "execution": {
     "iopub.execute_input": "2022-11-03T19:06:26.731646Z",
     "iopub.status.busy": "2022-11-03T19:06:26.730999Z",
     "iopub.status.idle": "2022-11-03T19:06:38.449564Z",
     "shell.execute_reply": "2022-11-03T19:06:38.447871Z",
     "shell.execute_reply.started": "2022-11-03T19:06:26.731607Z"
    }
   },
   "outputs": [],
   "source": [
    "# for objects \n",
    "for col in train_df.select_dtypes(include=['object']).columns:\n",
    "    train_df[col] = train_df[col].fillna(value = \"unknown\")\n",
    "# for values \n",
    "for col in train_df.select_dtypes(exclude=['object']).columns:\n",
    "    train_df[col] = train_df[col].fillna(value = train_df[col].mean())"
   ]
  },
  {
   "cell_type": "code",
   "execution_count": 16,
   "metadata": {
    "execution": {
     "iopub.execute_input": "2022-11-03T19:06:58.183797Z",
     "iopub.status.busy": "2022-11-03T19:06:58.183432Z",
     "iopub.status.idle": "2022-11-03T19:07:02.111844Z",
     "shell.execute_reply": "2022-11-03T19:07:02.110708Z",
     "shell.execute_reply.started": "2022-11-03T19:06:58.183767Z"
    }
   },
   "outputs": [
    {
     "data": {
      "text/plain": [
       "msno                      0\n",
       "song_id                   0\n",
       "source_system_tab         0\n",
       "source_screen_name        0\n",
       "source_type               0\n",
       "target                    0\n",
       "song_length               0\n",
       "genre_ids                 0\n",
       "artist_name               0\n",
       "composer                  0\n",
       "lyricist                  0\n",
       "language                  0\n",
       "name                      0\n",
       "isrc                      0\n",
       "city                      0\n",
       "bd                        0\n",
       "gender                    0\n",
       "registered_via            0\n",
       "registration_init_time    0\n",
       "expiration_date           0\n",
       "dtype: int64"
      ]
     },
     "execution_count": 16,
     "metadata": {},
     "output_type": "execute_result"
    }
   ],
   "source": [
    "train_df.isna().sum()"
   ]
  },
  {
   "cell_type": "markdown",
   "metadata": {},
   "source": [
    "### Features engineering\n",
    "We extract the date features, and we code labels"
   ]
  },
  {
   "cell_type": "code",
   "execution_count": 19,
   "metadata": {
    "execution": {
     "iopub.execute_input": "2022-11-03T19:09:07.238285Z",
     "iopub.status.busy": "2022-11-03T19:09:07.237901Z",
     "iopub.status.idle": "2022-11-03T19:09:08.250339Z",
     "shell.execute_reply": "2022-11-03T19:09:08.248720Z",
     "shell.execute_reply.started": "2022-11-03T19:09:07.238260Z"
    }
   },
   "outputs": [],
   "source": [
    "# Extract features from registration date\n",
    "train_df.registration_init_time = pd.to_datetime(train_df.registration_init_time, format='%Y%m%d', errors='ignore')\n",
    "train_df['registration_init_time_year'] = train_df['registration_init_time'].dt.year\n",
    "train_df['registration_init_time_month'] = train_df['registration_init_time'].dt.month\n",
    "train_df['registration_init_time_day'] = train_df['registration_init_time'].dt.day"
   ]
  },
  {
   "cell_type": "code",
   "execution_count": 20,
   "metadata": {
    "execution": {
     "iopub.execute_input": "2022-11-03T19:09:10.156904Z",
     "iopub.status.busy": "2022-11-03T19:09:10.155688Z",
     "iopub.status.idle": "2022-11-03T19:09:11.080479Z",
     "shell.execute_reply": "2022-11-03T19:09:11.079446Z",
     "shell.execute_reply.started": "2022-11-03T19:09:10.156803Z"
    }
   },
   "outputs": [],
   "source": [
    "# Extract features from expiration date\n",
    "train_df.expiration_date = pd.to_datetime(train_df.expiration_date,  format='%Y%m%d', errors='ignore')\n",
    "train_df['expiration_date_year'] = train_df['expiration_date'].dt.year\n",
    "train_df['expiration_date_month'] = train_df['expiration_date'].dt.month\n",
    "train_df['expiration_date_day'] = train_df['expiration_date'].dt.day"
   ]
  },
  {
   "cell_type": "code",
   "execution_count": 22,
   "metadata": {
    "execution": {
     "iopub.execute_input": "2022-11-03T19:09:51.653631Z",
     "iopub.status.busy": "2022-11-03T19:09:51.653236Z",
     "iopub.status.idle": "2022-11-03T19:09:51.658229Z",
     "shell.execute_reply": "2022-11-03T19:09:51.657207Z",
     "shell.execute_reply.started": "2022-11-03T19:09:51.653601Z"
    }
   },
   "outputs": [],
   "source": [
    "# coding the labels\n",
    "label_encoder = LabelEncoder()"
   ]
  },
  {
   "cell_type": "code",
   "execution_count": 23,
   "metadata": {
    "execution": {
     "iopub.execute_input": "2022-11-03T19:09:52.949809Z",
     "iopub.status.busy": "2022-11-03T19:09:52.949268Z",
     "iopub.status.idle": "2022-11-03T19:10:40.785692Z",
     "shell.execute_reply": "2022-11-03T19:10:40.784568Z",
     "shell.execute_reply.started": "2022-11-03T19:09:52.949782Z"
    }
   },
   "outputs": [],
   "source": [
    "for i in train_df.columns:\n",
    "    train_df[i] = label_encoder.fit_transform(train_df[i])"
   ]
  },
  {
   "cell_type": "markdown",
   "metadata": {},
   "source": [
    "### LGBM Model"
   ]
  },
  {
   "cell_type": "code",
   "execution_count": 24,
   "metadata": {
    "execution": {
     "iopub.execute_input": "2022-11-03T19:10:51.333282Z",
     "iopub.status.busy": "2022-11-03T19:10:51.332425Z",
     "iopub.status.idle": "2022-11-03T19:10:55.823619Z",
     "shell.execute_reply": "2022-11-03T19:10:55.821737Z",
     "shell.execute_reply.started": "2022-11-03T19:10:51.333245Z"
    }
   },
   "outputs": [],
   "source": [
    "# Train Test split\n",
    "X = train_df.drop('target', axis = 1)\n",
    "y = train_df.target\n",
    "\n",
    "X_train, X_val, y_train, y_val = train_test_split(X, y, test_size = 0.25, random_state = 0)"
   ]
  },
  {
   "cell_type": "code",
   "execution_count": 25,
   "metadata": {
    "execution": {
     "iopub.execute_input": "2022-11-03T19:11:22.269319Z",
     "iopub.status.busy": "2022-11-03T19:11:22.268833Z",
     "iopub.status.idle": "2022-11-03T19:12:17.020498Z",
     "shell.execute_reply": "2022-11-03T19:12:17.019108Z",
     "shell.execute_reply.started": "2022-11-03T19:11:22.269276Z"
    }
   },
   "outputs": [
    {
     "data": {
      "text/plain": [
       "LGBMClassifier(learning_rate=0.3)"
      ]
     },
     "execution_count": 25,
     "metadata": {},
     "output_type": "execute_result"
    }
   ],
   "source": [
    "lgbm_clf = lgbm.LGBMClassifier(learning_rate=0.3, n_estimators=100)\n",
    "lgbm_clf.fit(X_train, y_train)"
   ]
  },
  {
   "cell_type": "code",
   "execution_count": 47,
   "metadata": {
    "execution": {
     "iopub.execute_input": "2022-11-03T19:35:50.180698Z",
     "iopub.status.busy": "2022-11-03T19:35:50.180288Z",
     "iopub.status.idle": "2022-11-03T19:35:54.756096Z",
     "shell.execute_reply": "2022-11-03T19:35:54.754301Z",
     "shell.execute_reply.started": "2022-11-03T19:35:50.180666Z"
    }
   },
   "outputs": [
    {
     "ename": "ValueError",
     "evalue": "Classification metrics can't handle a mix of binary and continuous targets",
     "output_type": "error",
     "traceback": [
      "\u001b[0;31m---------------------------------------------------------------------------\u001b[0m",
      "\u001b[0;31mValueError\u001b[0m                                Traceback (most recent call last)",
      "\u001b[0;32m/tmp/ipykernel_27/2543761791.py\u001b[0m in \u001b[0;36m<module>\u001b[0;34m\u001b[0m\n\u001b[1;32m      1\u001b[0m \u001b[0my_pred\u001b[0m\u001b[0;34m=\u001b[0m\u001b[0mclf\u001b[0m\u001b[0;34m.\u001b[0m\u001b[0mpredict\u001b[0m\u001b[0;34m(\u001b[0m\u001b[0mX_val\u001b[0m\u001b[0;34m)\u001b[0m\u001b[0;34m\u001b[0m\u001b[0;34m\u001b[0m\u001b[0m\n\u001b[0;32m----> 2\u001b[0;31m \u001b[0mprint\u001b[0m\u001b[0;34m(\u001b[0m\u001b[0;34m'LightGBM Model accuracy score: {0:0.4f}'\u001b[0m\u001b[0;34m.\u001b[0m\u001b[0mformat\u001b[0m\u001b[0;34m(\u001b[0m\u001b[0maccuracy_score\u001b[0m\u001b[0;34m(\u001b[0m\u001b[0my_val\u001b[0m\u001b[0;34m,\u001b[0m \u001b[0my_pred\u001b[0m\u001b[0;34m)\u001b[0m\u001b[0;34m)\u001b[0m\u001b[0;34m)\u001b[0m\u001b[0;34m\u001b[0m\u001b[0;34m\u001b[0m\u001b[0m\n\u001b[0m",
      "\u001b[0;32m/opt/conda/lib/python3.7/site-packages/sklearn/metrics/_classification.py\u001b[0m in \u001b[0;36maccuracy_score\u001b[0;34m(y_true, y_pred, normalize, sample_weight)\u001b[0m\n\u001b[1;32m    209\u001b[0m \u001b[0;34m\u001b[0m\u001b[0m\n\u001b[1;32m    210\u001b[0m     \u001b[0;31m# Compute accuracy for each possible representation\u001b[0m\u001b[0;34m\u001b[0m\u001b[0;34m\u001b[0m\u001b[0;34m\u001b[0m\u001b[0m\n\u001b[0;32m--> 211\u001b[0;31m     \u001b[0my_type\u001b[0m\u001b[0;34m,\u001b[0m \u001b[0my_true\u001b[0m\u001b[0;34m,\u001b[0m \u001b[0my_pred\u001b[0m \u001b[0;34m=\u001b[0m \u001b[0m_check_targets\u001b[0m\u001b[0;34m(\u001b[0m\u001b[0my_true\u001b[0m\u001b[0;34m,\u001b[0m \u001b[0my_pred\u001b[0m\u001b[0;34m)\u001b[0m\u001b[0;34m\u001b[0m\u001b[0;34m\u001b[0m\u001b[0m\n\u001b[0m\u001b[1;32m    212\u001b[0m     \u001b[0mcheck_consistent_length\u001b[0m\u001b[0;34m(\u001b[0m\u001b[0my_true\u001b[0m\u001b[0;34m,\u001b[0m \u001b[0my_pred\u001b[0m\u001b[0;34m,\u001b[0m \u001b[0msample_weight\u001b[0m\u001b[0;34m)\u001b[0m\u001b[0;34m\u001b[0m\u001b[0;34m\u001b[0m\u001b[0m\n\u001b[1;32m    213\u001b[0m     \u001b[0;32mif\u001b[0m \u001b[0my_type\u001b[0m\u001b[0;34m.\u001b[0m\u001b[0mstartswith\u001b[0m\u001b[0;34m(\u001b[0m\u001b[0;34m\"multilabel\"\u001b[0m\u001b[0;34m)\u001b[0m\u001b[0;34m:\u001b[0m\u001b[0;34m\u001b[0m\u001b[0;34m\u001b[0m\u001b[0m\n",
      "\u001b[0;32m/opt/conda/lib/python3.7/site-packages/sklearn/metrics/_classification.py\u001b[0m in \u001b[0;36m_check_targets\u001b[0;34m(y_true, y_pred)\u001b[0m\n\u001b[1;32m     93\u001b[0m         raise ValueError(\n\u001b[1;32m     94\u001b[0m             \"Classification metrics can't handle a mix of {0} and {1} targets\".format(\n\u001b[0;32m---> 95\u001b[0;31m                 \u001b[0mtype_true\u001b[0m\u001b[0;34m,\u001b[0m \u001b[0mtype_pred\u001b[0m\u001b[0;34m\u001b[0m\u001b[0;34m\u001b[0m\u001b[0m\n\u001b[0m\u001b[1;32m     96\u001b[0m             )\n\u001b[1;32m     97\u001b[0m         )\n",
      "\u001b[0;31mValueError\u001b[0m: Classification metrics can't handle a mix of binary and continuous targets"
     ]
    }
   ],
   "source": [
    "y_pred_lgbm = lgbm_clf.predict(X_val)\n",
    "print('LightGBM Model accuracy score: {0:0.4f}'.format(accuracy_score(y_val, y_pred_lgbm)))"
   ]
  },
  {
   "cell_type": "code",
   "execution_count": 29,
   "metadata": {
    "execution": {
     "iopub.execute_input": "2022-11-03T19:13:00.375346Z",
     "iopub.status.busy": "2022-11-03T19:13:00.374944Z",
     "iopub.status.idle": "2022-11-03T19:13:02.798033Z",
     "shell.execute_reply": "2022-11-03T19:13:02.796777Z",
     "shell.execute_reply.started": "2022-11-03T19:13:00.375316Z"
    }
   },
   "outputs": [
    {
     "name": "stdout",
     "output_type": "stream",
     "text": [
      "              precision    recall  f1-score   support\n",
      "\n",
      "           0       0.66      0.63      0.64    915850\n",
      "           1       0.65      0.68      0.67    928505\n",
      "\n",
      "    accuracy                           0.66   1844355\n",
      "   macro avg       0.66      0.66      0.66   1844355\n",
      "weighted avg       0.66      0.66      0.66   1844355\n",
      "\n"
     ]
    }
   ],
   "source": [
    "print(classification_report(y_val, y_pred_lgbm))"
   ]
  },
  {
   "cell_type": "markdown",
   "metadata": {},
   "source": [
    "### Confusion matrix"
   ]
  },
  {
   "cell_type": "code",
   "execution_count": 33,
   "metadata": {
    "execution": {
     "iopub.execute_input": "2022-11-03T19:20:53.327470Z",
     "iopub.status.busy": "2022-11-03T19:20:53.327039Z",
     "iopub.status.idle": "2022-11-03T19:20:53.758399Z",
     "shell.execute_reply": "2022-11-03T19:20:53.756330Z",
     "shell.execute_reply.started": "2022-11-03T19:20:53.327438Z"
    }
   },
   "outputs": [
    {
     "data": {
      "text/plain": [
       "<AxesSubplot:>"
      ]
     },
     "execution_count": 33,
     "metadata": {},
     "output_type": "execute_result"
    },
    {
     "data": {
      "image/png": "[encoded data removed]",
      "text/plain": [
       "<Figure size 432x288 with 2 Axes>"
      ]
     },
     "metadata": {
      "needs_background": "light"
     },
     "output_type": "display_data"
    }
   ],
   "source": [
    "import seaborn as sns \n",
    "from sklearn.metrics import confusion_matrix\n",
    "\n",
    "cm_lgbm = confusion_matrix(y_val, y_pred_lgbm)\n",
    "sns.heatmap(cm_lgbm, annot=True, fmt='g')"
   ]
  }
 ],
 "metadata": {
  "kernelspec": {
   "display_name": "Python 3 (ipykernel)",
   "language": "python",
   "name": "python3"
  },
  "language_info": {
   "codemirror_mode": {
    "name": "ipython",
    "version": 3
   },
   "file_extension": ".py",
   "mimetype": "text/x-python",
   "name": "python",
   "nbconvert_exporter": "python",
   "pygments_lexer": "ipython3",
   "version": "3.7.13"
  }
 },
 "nbformat": 4,
 "nbformat_minor": 4
}
